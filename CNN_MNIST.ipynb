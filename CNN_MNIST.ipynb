{
  "nbformat": 4,
  "nbformat_minor": 0,
  "metadata": {
    "accelerator": "GPU",
    "colab": {
      "name": "CNN-MNIST",
      "provenance": [],
      "collapsed_sections": [],
      "toc_visible": true
    },
    "kernelspec": {
      "display_name": "Python 3",
      "name": "python3"
    }
  },
  "cells": [
    {
      "cell_type": "markdown",
      "metadata": {
        "id": "x4HI2mpwlrcn"
      },
      "source": [
        "# 使用CNN在MNIST数据集上实现高准确率(99%准确率)识别"
      ]
    },
    {
      "cell_type": "markdown",
      "metadata": {
        "id": "DSPCom-KmApV"
      },
      "source": [
        "# 卷积神经网络（Convolutional Neural Network, CNN）"
      ]
    },
    {
      "cell_type": "markdown",
      "metadata": {
        "id": "klAltGp8ycek"
      },
      "source": [
        "<table class=\"tfo-notebook-buttons\" align=\"left\">\n",
        "  <!-- <td>\n",
        "    <a target=\"_blank\" href=\"https://colab.research.google.com/github/tylzh97/UCAS-DeepLearning/blob/main/CNN_MNIST.ipynb\"><img src=\"https://tensorflow.google.cn/images/colab_logo_32px.png\" />在 Google Colab 中运行</a>\n",
        "  </td> -->\n",
        "  <td>\n",
        "    <a target=\"_blank\" href=\"https://github.com/tylzh97/UCAS-DeepLearning/blob/main/CNN_MNIST.ipynb\"><img src=\"https://github.com/favicon.ico\">在 GitHub 上查看源代码</a>\n",
        "  </td>\n",
        "  <td>\n",
        "    <a href=\"https://github.com/tylzh97/UCAS-DeepLearning/raw/main/CNN_MNIST.ipynb\"><img src=\"https://tensorflow.google.cn/images/download_logo_32px.png\" />下载 notebook</a>\n",
        "  </td>\n",
        "</table>"
      ]
    },
    {
      "cell_type": "markdown",
      "metadata": {
        "id": "m7KBpffWzlxH"
      },
      "source": [
        "### 导入相关依赖"
      ]
    },
    {
      "cell_type": "code",
      "metadata": {
        "id": "iAve6DCL4JH4"
      },
      "source": [
        "import tensorflow as tf\n",
        "import numpy as np\n",
        "\n",
        "from tensorflow.keras import datasets, layers, models\n",
        "import matplotlib.pyplot as plt"
      ],
      "execution_count": 1,
      "outputs": []
    },
    {
      "cell_type": "markdown",
      "metadata": {
        "id": "jRFxccghyMVo"
      },
      "source": [
        "### 使用`tf.datasets`在线加载MNIST数据集\n"
      ]
    },
    {
      "cell_type": "code",
      "metadata": {
        "id": "JWoEqyMuXFF4"
      },
      "source": [
        "# 在线加载数据集\n",
        "# 如果在国内运行则需要在终端挂代理\n",
        "(train_images, train_labels), (test_images, test_labels) = datasets.mnist.load_data()\n",
        "\n",
        "# 将训练集与测试集的图像像素的值标准化至0到1的区间内。\n",
        "train_images, test_images = train_images / 255.0, test_images / 255.0\n",
        "\n",
        "# 为了更通用的使用CNN, 图像尺寸通常设置为(<w>, <h>, <1 or 3>)\n",
        "# MNIST为灰度图像，在此处添加一个维度表示灰度图像\n",
        "train_images, test_images = train_images[..., tf.newaxis], test_images[..., tf.newaxis]"
      ],
      "execution_count": 2,
      "outputs": []
    },
    {
      "cell_type": "markdown",
      "metadata": {
        "id": "7wArwCTJJlUa"
      },
      "source": [
        "### 查看数据集样品\n",
        "\n",
        "将测试集的前 25 张图片和对应的数字打印出来，检查数据集是否被正确加载。\n"
      ]
    },
    {
      "cell_type": "code",
      "metadata": {
        "id": "K3PAELE2eSU9",
        "colab": {
          "base_uri": "https://localhost:8080/",
          "height": 589
        },
        "outputId": "b2b91f71-2b0f-45a2-f517-a79e1ab041fa"
      },
      "source": [
        "class_names = [str(_) for _ in range(10)]\n",
        "\n",
        "plt.figure(figsize=(10,10))\n",
        "for i in range(25):\n",
        "    plt.subplot(5,5,i+1)\n",
        "    plt.xticks([])\n",
        "    plt.yticks([])\n",
        "    plt.grid(False)\n",
        "    plt.imshow(train_images[i][:, :, 0], cmap=plt.cm.binary)\n",
        "    # 由于 CIFAR 的标签是 array， \n",
        "    # 因此您需要额外的索引（index）。\n",
        "    plt.xlabel(class_names[train_labels[i]])\n",
        "plt.show()"
      ],
      "execution_count": 3,
      "outputs": [
        {
          "output_type": "display_data",
          "data": {
            "image/png": "[encoded data removed]",
            "text/plain": [
              "<Figure size 720x720 with 25 Axes>"
            ]
          },
          "metadata": {
            "tags": []
          }
        }
      ]
    },
    {
      "cell_type": "markdown",
      "metadata": {
        "id": "Oewp-wYg31t9"
      },
      "source": [
        "### 构造卷积神经网络(CNN)模型"
      ]
    },
    {
      "cell_type": "markdown",
      "metadata": {
        "id": "3hQvqXpNyN3x"
      },
      "source": [
        "创建一个5层的卷积神经网络，由几个`Conv2D`2维卷积层和`MaxPooling2D`最大池化层组成。\n",
        "\n",
        "Conv2D的输入是Tensor格式的图像序列, 单张图像的格式为(image_height, image_width, color_channels), 对于图像高度、图像宽度和色彩通道. \n",
        "\n",
        "`MNIST`数据集的图像格式为(28, 28), 在数据预处理阶段已经通过`tf.newaxis`将图像转换为(28, 28, 1).\n"
      ]
    },
    {
      "cell_type": "code",
      "metadata": {
        "id": "L9YmGQBQPrdn"
      },
      "source": [
        "# 创建一个 Sequential 的神经网络模型\n",
        "model = models.Sequential()\n",
        "# 添加一个Conv2D层\n",
        "# 卷积核个数为32; kernel_size为3*3; 使用relu激活函数; 输入图像形状为(28*28*1) \n",
        "model.add(layers.Conv2D(32, (3, 3), activation='relu', input_shape=(28, 28, 1)))\n",
        "# 最大值池化层\n",
        "model.add(layers.MaxPooling2D((2, 2)))\n",
        "# 卷积层\n",
        "model.add(layers.Conv2D(64, (3, 3), activation='relu'))\n",
        "# 最大值池化层\n",
        "model.add(layers.MaxPooling2D((2, 2)))\n",
        "# 卷积层\n",
        "model.add(layers.Conv2D(64, (3, 3), activation='relu'))"
      ],
      "execution_count": 4,
      "outputs": []
    },
    {
      "cell_type": "markdown",
      "metadata": {
        "id": "lvDVFkg-2DPm"
      },
      "source": [
        "此时可以使用summary方法查看模型的结构:"
      ]
    },
    {
      "cell_type": "code",
      "metadata": {
        "id": "8-C4XBg4UTJy",
        "colab": {
          "base_uri": "https://localhost:8080/"
        },
        "outputId": "9e865f32-1c1c-432a-9e97-faf1afb0f968"
      },
      "source": [
        "# 查看模型结构\n",
        "model.summary() "
      ],
      "execution_count": 5,
      "outputs": [
        {
          "output_type": "stream",
          "text": [
            "Model: \"sequential\"\n",
            "_________________________________________________________________\n",
            "Layer (type)                 Output Shape              Param #   \n",
            "=================================================================\n",
            "conv2d (Conv2D)              (None, 26, 26, 32)        320       \n",
            "_________________________________________________________________\n",
            "max_pooling2d (MaxPooling2D) (None, 13, 13, 32)        0         \n",
            "_________________________________________________________________\n",
            "conv2d_1 (Conv2D)            (None, 11, 11, 64)        18496     \n",
            "_________________________________________________________________\n",
            "max_pooling2d_1 (MaxPooling2 (None, 5, 5, 64)          0         \n",
            "_________________________________________________________________\n",
            "conv2d_2 (Conv2D)            (None, 3, 3, 64)          36928     \n",
            "=================================================================\n",
            "Total params: 55,744\n",
            "Trainable params: 55,744\n",
            "Non-trainable params: 0\n",
            "_________________________________________________________________\n"
          ],
          "name": "stdout"
        }
      ]
    },
    {
      "cell_type": "markdown",
      "metadata": {
        "id": "_j-AXYeZ2GO5"
      },
      "source": [
        "`Conv2D`和`MaxPooling2D`的输出都是一个三维的Tensor.\n",
        "\n",
        "在本模型中, 由于采用了3*3的卷积, 因此第一层输出的shape会减少一个边际点. "
      ]
    },
    {
      "cell_type": "markdown",
      "metadata": {
        "id": "_v8sVOtG37bT"
      },
      "source": [
        "### 增加 Dense(全连接) 层\n",
        "\n",
        "将卷积后的输出张量传给一个或多个 Dense 层来完成分类。\n",
        "\n",
        "使用`Flatten`层将3维Tensor展开到1维, 然后使用Dense层进行分类\n",
        "\n",
        "MNIST数据集有 10 个类，因此您最终的 Dense 层需要 10 个输出及一个 softmax 激活函数。"
      ]
    },
    {
      "cell_type": "code",
      "metadata": {
        "id": "mRs95d6LUVEi"
      },
      "source": [
        "# 添加一个flatten层, 将3维tensor展开成1维向量\n",
        "model.add(layers.Flatten())\n",
        "# 添加一个64个神经元的全连接层, 使用relu作为激活函数\n",
        "model.add(layers.Dense(64, activation='relu'))\n",
        "# 添加一个10个神经元的全连接层, 对应10类输出\n",
        "model.add(layers.Dense(10))"
      ],
      "execution_count": 6,
      "outputs": []
    },
    {
      "cell_type": "markdown",
      "metadata": {
        "id": "ipGiQMcR4Gtq"
      },
      "source": [
        "查看完整的 CNN 结构："
      ]
    },
    {
      "cell_type": "code",
      "metadata": {
        "id": "8Yu_m-TZUWGX",
        "colab": {
          "base_uri": "https://localhost:8080/"
        },
        "outputId": "b33f2b54-0bb6-470f-9d38-d6b78eec7fed"
      },
      "source": [
        "model.summary()"
      ],
      "execution_count": 7,
      "outputs": [
        {
          "output_type": "stream",
          "text": [
            "Model: \"sequential\"\n",
            "_________________________________________________________________\n",
            "Layer (type)                 Output Shape              Param #   \n",
            "=================================================================\n",
            "conv2d (Conv2D)              (None, 26, 26, 32)        320       \n",
            "_________________________________________________________________\n",
            "max_pooling2d (MaxPooling2D) (None, 13, 13, 32)        0         \n",
            "_________________________________________________________________\n",
            "conv2d_1 (Conv2D)            (None, 11, 11, 64)        18496     \n",
            "_________________________________________________________________\n",
            "max_pooling2d_1 (MaxPooling2 (None, 5, 5, 64)          0         \n",
            "_________________________________________________________________\n",
            "conv2d_2 (Conv2D)            (None, 3, 3, 64)          36928     \n",
            "_________________________________________________________________\n",
            "flatten (Flatten)            (None, 576)               0         \n",
            "_________________________________________________________________\n",
            "dense (Dense)                (None, 64)                36928     \n",
            "_________________________________________________________________\n",
            "dense_1 (Dense)              (None, 10)                650       \n",
            "=================================================================\n",
            "Total params: 93,322\n",
            "Trainable params: 93,322\n",
            "Non-trainable params: 0\n",
            "_________________________________________________________________\n"
          ],
          "name": "stdout"
        }
      ]
    },
    {
      "cell_type": "markdown",
      "metadata": {
        "id": "xNKXi-Gy3RO-"
      },
      "source": [
        "可以看出，在被传入两个 Dense 层之前，形状为 (3, 3, 64) 的输出被展平成了形状为 (576) 的向量。"
      ]
    },
    {
      "cell_type": "markdown",
      "metadata": {
        "id": "P3odqfHP4M67"
      },
      "source": [
        "### 编译并训练模型"
      ]
    },
    {
      "cell_type": "code",
      "metadata": {
        "id": "MdDzI75PUXrG",
        "colab": {
          "base_uri": "https://localhost:8080/"
        },
        "outputId": "4e429b1a-6dbe-4f7a-cf92-ba527a167144"
      },
      "source": [
        "# 编译模型\n",
        "## 选用adam优化器; 选用交叉熵作为损失函数; 选用accuracy作为评价指标\n",
        "model.compile(optimizer='adam',\n",
        "              loss=tf.keras.losses.SparseCategoricalCrossentropy(from_logits=True),\n",
        "              metrics=['accuracy'])\n",
        "\n",
        "# 训练模型\n",
        "history = model.fit(train_images, train_labels, epochs=10, \n",
        "                    validation_data=(test_images, test_labels))"
      ],
      "execution_count": 8,
      "outputs": [
        {
          "output_type": "stream",
          "text": [
            "Epoch 1/10\n",
            "1875/1875 [==============================] - 8s 3ms/step - loss: 0.1430 - accuracy: 0.9559 - val_loss: 0.0455 - val_accuracy: 0.9872\n",
            "Epoch 2/10\n",
            "1875/1875 [==============================] - 5s 3ms/step - loss: 0.0450 - accuracy: 0.9863 - val_loss: 0.0414 - val_accuracy: 0.9875\n",
            "Epoch 3/10\n",
            "1875/1875 [==============================] - 5s 3ms/step - loss: 0.0326 - accuracy: 0.9898 - val_loss: 0.0348 - val_accuracy: 0.9892\n",
            "Epoch 4/10\n",
            "1875/1875 [==============================] - 5s 3ms/step - loss: 0.0243 - accuracy: 0.9923 - val_loss: 0.0326 - val_accuracy: 0.9900\n",
            "Epoch 5/10\n",
            "1875/1875 [==============================] - 5s 3ms/step - loss: 0.0196 - accuracy: 0.9934 - val_loss: 0.0357 - val_accuracy: 0.9893\n",
            "Epoch 6/10\n",
            "1875/1875 [==============================] - 5s 3ms/step - loss: 0.0157 - accuracy: 0.9949 - val_loss: 0.0409 - val_accuracy: 0.9872\n",
            "Epoch 7/10\n",
            "1875/1875 [==============================] - 5s 3ms/step - loss: 0.0132 - accuracy: 0.9959 - val_loss: 0.0303 - val_accuracy: 0.9914\n",
            "Epoch 8/10\n",
            "1875/1875 [==============================] - 5s 3ms/step - loss: 0.0102 - accuracy: 0.9966 - val_loss: 0.0453 - val_accuracy: 0.9901\n",
            "Epoch 9/10\n",
            "1875/1875 [==============================] - 5s 3ms/step - loss: 0.0102 - accuracy: 0.9965 - val_loss: 0.0280 - val_accuracy: 0.9931\n",
            "Epoch 10/10\n",
            "1875/1875 [==============================] - 5s 3ms/step - loss: 0.0085 - accuracy: 0.9972 - val_loss: 0.0377 - val_accuracy: 0.9903\n"
          ],
          "name": "stdout"
        }
      ]
    },
    {
      "cell_type": "markdown",
      "metadata": {
        "id": "jKgyC5K_4O0d"
      },
      "source": [
        "### 评估模型"
      ]
    },
    {
      "cell_type": "code",
      "metadata": {
        "id": "gtyDF0MKUcM7",
        "colab": {
          "base_uri": "https://localhost:8080/",
          "height": 283
        },
        "outputId": "206fd470-836a-429a-8c58-8e7ac727724d"
      },
      "source": [
        "plt.plot(history.history['accuracy'], label='accuracy')\n",
        "plt.plot(history.history['val_accuracy'], label = 'val_accuracy')\n",
        "plt.xlabel('Epoch')\n",
        "plt.ylabel('Accuracy')\n",
        "plt.ylim([0.5, 1])\n",
        "plt.legend(loc='lower right')\n",
        "plt.show()\n"
      ],
      "execution_count": 9,
      "outputs": [
        {
          "output_type": "display_data",
          "data": {
            "image/png": "[encoded data removed]",
            "text/plain": [
              "<Figure size 432x288 with 1 Axes>"
            ]
          },
          "metadata": {
            "tags": [],
            "needs_background": "light"
          }
        }
      ]
    },
    {
      "cell_type": "code",
      "metadata": {
        "id": "0LvwaKhtUdOo",
        "colab": {
          "base_uri": "https://localhost:8080/"
        },
        "outputId": "4737402a-1f52-4801-a51f-0a42b65d2144"
      },
      "source": [
        "# 显示模型评价指标\n",
        "test_loss, test_acc = model.evaluate(test_images,  test_labels, verbose=2)\n",
        "print('该模型测试集 loss为:', test_loss)\n",
        "print('该模型测试集 ACC 为:', test_acc)"
      ],
      "execution_count": 10,
      "outputs": [
        {
          "output_type": "stream",
          "text": [
            "313/313 - 0s - loss: 0.0377 - accuracy: 0.9903\n",
            "该模型测试集 loss为: 0.037700388580560684\n",
            "该模型测试集 ACC 为: 0.9902999997138977\n"
          ],
          "name": "stdout"
        }
      ]
    },
    {
      "cell_type": "markdown",
      "metadata": {
        "id": "8cfJ8AR03gT5"
      },
      "source": [
        "我们搭建的简单的 CNN 模型在测试集上可以达到 99% 的准确率。"
      ]
    },
    {
      "cell_type": "markdown",
      "metadata": {
        "id": "szzkBrpQdEjC"
      },
      "source": [
        "# 预测图像"
      ]
    },
    {
      "cell_type": "markdown",
      "metadata": {
        "id": "DmQ4zdoxdJ4O"
      },
      "source": [
        "为了是模型有良好的线性输出, 通常会在输出层添加一个Softmax层"
      ]
    },
    {
      "cell_type": "code",
      "metadata": {
        "id": "nXjF_ySvazJs"
      },
      "source": [
        "# 添加一个softmax层使模型具有线性输出\n",
        "probability_model = tf.keras.Sequential([model, \n",
        "                                         tf.keras.layers.Softmax()])"
      ],
      "execution_count": 26,
      "outputs": []
    },
    {
      "cell_type": "code",
      "metadata": {
        "colab": {
          "base_uri": "https://localhost:8080/",
          "height": 283
        },
        "id": "Ef8dwTWFa9W2",
        "outputId": "4e04603b-1349-4ef2-aa45-eeed3bf9d8e8"
      },
      "source": [
        "# 输入一个(28*28*1)的图像，显示图像并显示模型的预测结果\n",
        "def predictSingleImage(img):\n",
        "    plt.imshow(img[:, :, 0])\n",
        "    predictions = probability_model.predict(img[tf.newaxis, ..., tf.newaxis])\n",
        "    ans = np.argmax(predictions[0])\n",
        "    print(\"该图片的预测值为：\", ans)\n",
        "\n",
        "predictSingleImage(test_images[996])\n"
      ],
      "execution_count": 31,
      "outputs": [
        {
          "output_type": "stream",
          "text": [
            "该图片的预测值为： 2\n"
          ],
          "name": "stdout"
        },
        {
          "output_type": "display_data",
          "data": {
            "image/png": "[encoded data removed]",
            "text/plain": [
              "<Figure size 432x288 with 1 Axes>"
            ]
          },
          "metadata": {
            "tags": [],
            "needs_background": "light"
          }
        }
      ]
    },
    {
      "cell_type": "markdown",
      "metadata": {
        "id": "P8X_Rf5NdUon"
      },
      "source": [
        "# 总结与分析"
      ]
    },
    {
      "cell_type": "markdown",
      "metadata": {
        "id": "mcXwfQu9dvLF"
      },
      "source": [
        "本实验创建了一个3层Conv2D; 2层MaxPooling2D的CNN网络, 用于在MNIST数据集上的高精度手写数字识别. 经过实验, 最终识别准确率高, 达到了99%, 且训练时间短(Intel i7 2.5GHz 处理器耗时1分钟)."
      ]
    }
  ]
}